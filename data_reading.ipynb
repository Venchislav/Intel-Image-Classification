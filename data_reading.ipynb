{
 "cells": [
  {
   "cell_type": "code",
   "execution_count": 30,
   "metadata": {},
   "outputs": [],
   "source": [
    "import tensorflow as tf\n",
    "import numpy as np\n",
    "import warnings"
   ]
  },
  {
   "cell_type": "code",
   "execution_count": null,
   "metadata": {},
   "outputs": [],
   "source": [
    "IM_SIZE = 150  # as in original data\n",
    "BATCH = 32\n",
    "TRAIN_PATH = 'seg_train'\n",
    "TEST_PATH = 'seg_test'"
   ]
  },
  {
   "cell_type": "code",
   "execution_count": null,
   "metadata": {},
   "outputs": [],
   "source": [
    "train_data = tf.keras.utils.image_dataset_from_directory(\n",
    "    TRAIN_PATH,\n",
    "    validation_split=0.2,\n",
    "    subset='training',\n",
    "    image_size=(IM_SIZE, IM_SIZE),\n",
    "    seed=100,\n",
    "    batch_size=BATCH\n",
    ")"
   ]
  },
  {
   "cell_type": "code",
   "execution_count": null,
   "metadata": {},
   "outputs": [],
   "source": [
    "val_data = tf.keras.utils.image_dataset_from_directory(\n",
    "    TRAIN_PATH,\n",
    "    validation_split=0.2,\n",
    "    subset='validation',\n",
    "    image_size=(IM_SIZE, IM_SIZE),\n",
    "    seed=100,\n",
    "    batch_size=BATCH\n",
    ")"
   ]
  },
  {
   "cell_type": "code",
   "execution_count": null,
   "metadata": {},
   "outputs": [],
   "source": [
    "test_data = tf.keras.utils.image_dataset_from_directory(\n",
    "    TEST_PATH,\n",
    "    image_size=(IM_SIZE, IM_SIZE),\n",
    "    seed=100,\n",
    "    batch_size=BATCH\n",
    ")"
   ]
  },
  {
   "cell_type": "code",
   "execution_count": null,
   "metadata": {},
   "outputs": [],
   "source": [
    "cls_names = train_data.class_names\n",
    "\n",
    "train_dataset = train_data.cache().prefetch(tf.data.AUTOTUNE)\n",
    "val_dataset = val_data.cache().prefetch(tf.data.AUTOTUNE)\n",
    "test_dataset = test_data.cache().prefetch(tf.data.AUTOTUNE)"
   ]
  }
 ],
 "metadata": {
  "kernelspec": {
   "display_name": "Python 3",
   "language": "python",
   "name": "python3"
  },
  "language_info": {
   "codemirror_mode": {
    "name": "ipython",
    "version": 3
   },
   "file_extension": ".py",
   "mimetype": "text/x-python",
   "name": "python",
   "nbconvert_exporter": "python",
   "pygments_lexer": "ipython3",
   "version": "3.11.4"
  }
 },
 "nbformat": 4,
 "nbformat_minor": 2
}
